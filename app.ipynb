{
  "nbformat": 4,
  "nbformat_minor": 0,
  "metadata": {
    "colab": {
      "name": "app.ipynb",
      "provenance": [],
      "collapsed_sections": [],
      "toc_visible": true,
      "include_colab_link": true
    },
    "kernelspec": {
      "name": "python3",
      "display_name": "Python 3"
    }
  },
  "cells": [
    {
      "cell_type": "markdown",
      "metadata": {
        "id": "view-in-github",
        "colab_type": "text"
      },
      "source": [
        "<a href=\"https://colab.research.google.com/github/williamsB77/ASL_Mapping/blob/master/app.ipynb\" target=\"_parent\"><img src=\"https://colab.research.google.com/assets/colab-badge.svg\" alt=\"Open In Colab\"/></a>"
      ]
    },
    {
      "cell_type": "code",
      "metadata": {
        "id": "AvEQ0wEFWxG0",
        "colab_type": "code",
        "outputId": "c5cfe545-3cd4-4833-9f99-ab993535d65b",
        "colab": {
          "base_uri": "https://localhost:8080/",
          "height": 34
        }
      },
      "source": [
        "# Import all needed libraries\n",
        "import cv2 \n",
        "import numpy as np\n"
      ],
      "execution_count": 0,
      "outputs": [
        {
          "output_type": "execute_result",
          "data": {
            "text/plain": [
              "'4.1.2'"
            ]
          },
          "metadata": {
            "tags": []
          },
          "execution_count": 8
        }
      ]
    },
    {
      "cell_type": "code",
      "metadata": {
        "id": "B2zU8XJBdKfp",
        "colab_type": "code",
        "colab": {}
      },
      "source": [
        "from google.colab import drive\n",
        "drive.mount('/mntDrive')"
      ],
      "execution_count": 0,
      "outputs": []
    },
    {
      "cell_type": "markdown",
      "metadata": {
        "id": "xlV5uWyHZby8",
        "colab_type": "text"
      },
      "source": [
        "**Function Method** --> Things to do\n",
        "\n",
        "```\n",
        "- Create a list of already matched ASL to letters for reference\n",
        "- Parse the input photo\n",
        "- Find the hand within the photo\n",
        "- Compare the hand to the reference photos\n",
        "- Find the best match and output the letter\n",
        "```\n",
        "\n"
      ]
    },
    {
      "cell_type": "code",
      "metadata": {
        "id": "JW6AD9zrXb9A",
        "colab_type": "code",
        "colab": {}
      },
      "source": [
        "# Method to parse the sequence \n",
        "def aslToEnglish (image):\n",
        "  letter = 0\n",
        "  # First, Process the dictionary images\n",
        "  # Reads and processes the image\n",
        "  im = cv2.imread(image, 1)\n",
        "  im = cv2.GaussianBlur(im, (5, 5), 0)\n",
        "  gray = cv2.cvtColor(im, cv2.COLOR_BGR2GRAY)\n",
        "  (thr, bw) = cv2.threshold(gray, 127, 255, cv2.THRESH_BINARY) # Black is foreground, white is background\n",
        "\n",
        "  # Create a bounding box around the image\n",
        "  hand = cv2.findContours(bw, cv2.RETR_EXTERNAL, cv2.CHAIN_APPROX_SIMPLE)\n",
        "  (bX, bY, bW, bH) = cv2.boundingRect(hand)\n",
        "\n",
        "  return letter"
      ],
      "execution_count": 0,
      "outputs": []
    },
    {
      "cell_type": "markdown",
      "metadata": {
        "id": "ZRj8-m5-ZINc",
        "colab_type": "text"
      },
      "source": [
        "**Main Method** --> Things to do: Get input working"
      ]
    },
    {
      "cell_type": "code",
      "metadata": {
        "id": "7sBMxT7bXl-_",
        "colab_type": "code",
        "colab": {}
      },
      "source": [
        "# Get the letter requested by the input photo\n",
        "print(\"Input your letter:\")\n",
        "image =  # Save image to this from gDrive\n",
        "eng = aslToEnglish(image)\n",
        "print(\"The letter you're looking for is: \" + eng)"
      ],
      "execution_count": 0,
      "outputs": []
    },
    {
      "cell_type": "markdown",
      "metadata": {
        "id": "SSa9AFF-hWJF",
        "colab_type": "text"
      },
      "source": [
        "### Create a list of already matched ASL to letters for reference\n"
      ]
    },
    {
      "cell_type": "code",
      "metadata": {
        "id": "qEuvL_mQhdd-",
        "colab_type": "code",
        "outputId": "eab31704-7c3e-4699-9093-6f3b6d7a74c4",
        "colab": {
          "base_uri": "https://localhost:8080/",
          "height": 119
        }
      },
      "source": [
        "!git clone https://github.com/nykekana/ASL_Mapping.git # maybe change?"
      ],
      "execution_count": 1,
      "outputs": [
        {
          "output_type": "stream",
          "text": [
            "Cloning into 'ASL_Mapping'...\n",
            "remote: Enumerating objects: 44, done.\u001b[K\n",
            "remote: Counting objects: 100% (44/44), done.\u001b[K\n",
            "remote: Compressing objects: 100% (41/41), done.\u001b[K\n",
            "remote: Total 44 (delta 3), reused 6 (delta 0), pack-reused 0\u001b[K\n",
            "Unpacking objects: 100% (44/44), done.\n"
          ],
          "name": "stdout"
        }
      ]
    },
    {
      "cell_type": "code",
      "metadata": {
        "id": "scTLSwe4jR-v",
        "colab_type": "code",
        "outputId": "e3b5f092-7591-4509-dcd8-36f007481655",
        "colab": {
          "base_uri": "https://localhost:8080/",
          "height": 459
        }
      },
      "source": [
        "%cd /content/ASL_Mapping/alphabet_dictionary\n",
        "# !ls\n",
        "def get_reference_dictionary(path_to_mapping_folder):\n",
        "  # creates a dictionary of of already matched ASL to letters for reference\n",
        "  import os\n",
        "  all_png_files = [file for file in os.listdir(path_to_mapping_folder) if file.endswith('.PNG')]\n",
        "  image_to_letter_dict = {}\n",
        "  for file in all_png_files:\n",
        "    file_name = file[0]\n",
        "    image_to_letter_dict[file_name] = file\n",
        "  return image_to_letter_dict\n",
        "\n",
        "path_to_mapping_folder = '/content/ASL_Mapping/alphabet_dictionary'\n",
        "get_reference_dictionary(path_to_mapping_folder)"
      ],
      "execution_count": 0,
      "outputs": [
        {
          "output_type": "stream",
          "text": [
            "/content/ASL_Mapping/alphabet_dictionary\n"
          ],
          "name": "stdout"
        },
        {
          "output_type": "execute_result",
          "data": {
            "text/plain": [
              "{'a': 'a.PNG',\n",
              " 'b': 'b.PNG',\n",
              " 'c': 'c.PNG',\n",
              " 'd': 'd.PNG',\n",
              " 'e': 'e.PNG',\n",
              " 'f': 'f.PNG',\n",
              " 'g': 'g.PNG',\n",
              " 'h': 'h.PNG',\n",
              " 'i': 'i.PNG',\n",
              " 'j': 'j.PNG',\n",
              " 'k': 'k.PNG',\n",
              " 'l': 'l.PNG',\n",
              " 'm': 'm.PNG',\n",
              " 'n': 'n.PNG',\n",
              " 'o': 'o.PNG',\n",
              " 'p': 'p.PNG',\n",
              " 'q': 'q.PNG',\n",
              " 'r': 'r.PNG',\n",
              " 's': 's.PNG',\n",
              " 't': 't.PNG',\n",
              " 'v': 'v.PNG',\n",
              " 'w': 'w.PNG',\n",
              " 'x': 'x.PNG',\n",
              " 'y': 'y.PNG',\n",
              " 'z': 'z.PNG'}"
            ]
          },
          "metadata": {
            "tags": []
          },
          "execution_count": 28
        }
      ]
    },
    {
      "cell_type": "code",
      "metadata": {
        "id": "dxiIs7xDktOc",
        "colab_type": "code",
        "outputId": "50bd0e5c-2144-46e2-8dad-2b24b81db223",
        "colab": {
          "base_uri": "https://localhost:8080/",
          "height": 268
        }
      },
      "source": [
        "def englishToASL(path_to_mapping_folder, letter):\n",
        "  # return the filename of ASL \n",
        "  letter = letter.lower()\n",
        "  image_to_letter_dict = get_reference_dictionary(path_to_mapping_folder)\n",
        "  letter_pic_path = path_to_mapping_folder+'/'+image_to_letter_dict[letter]\n",
        "  return (letter_pic_path)\n",
        "\n",
        "# How to use it \n",
        "path_to_mapping_folder = '/content/ASL_Mapping/alphabet_dictionary'\n",
        "letter = \"l\"\n",
        "img_file_name = englishToASL(path_to_mapping_folder, letter)\n",
        "\n",
        "#show photo\n",
        "%matplotlib inline\n",
        "from matplotlib import pyplot as plt\n",
        "import cv2\n",
        "\n",
        "img = cv2.imread(img_file_name)\n",
        "plt.imshow(img)\n",
        "plt.xticks([]),plt.yticks([])\n",
        "plt.show()\n"
      ],
      "execution_count": 0,
      "outputs": [
        {
          "output_type": "display_data",
          "data": {
            "image/png": "[encoded data removed]",
            "text/plain": [
              "<Figure size 432x288 with 1 Axes>"
            ]
          },
          "metadata": {
            "tags": []
          }
        }
      ]
    },
    {
      "cell_type": "markdown",
      "metadata": {
        "id": "q3BCt9qBxct6",
        "colab_type": "text"
      },
      "source": [
        "## How to  capture live stream with camera of user"
      ]
    },
    {
      "cell_type": "code",
      "metadata": {
        "colab_type": "code",
        "id": "SucxddsPhOmj",
        "colab": {}
      },
      "source": [
        "# Source: https://colab.research.google.com/notebooks/snippets/advanced_outputs.ipynb#scrollTo=buJCl90WhNfq\n",
        "\n",
        "from IPython.display import display, Javascript\n",
        "from google.colab.output import eval_js\n",
        "from base64 import b64decode\n",
        "\n",
        "def take_photo(filename='user_photo.jpg', quality=0.8):\n",
        "  js = Javascript('''\n",
        "    async function takePhoto(quality) {\n",
        "      const div = document.createElement('div');\n",
        "      const capture = document.createElement('button');\n",
        "      capture.textContent = 'Capture';\n",
        "      div.appendChild(capture);\n",
        "\n",
        "      const video = document.createElement('video');\n",
        "      video.style.display = 'block';\n",
        "      const stream = await navigator.mediaDevices.getUserMedia({video: true});\n",
        "\n",
        "      document.body.appendChild(div);\n",
        "      div.appendChild(video);\n",
        "      video.srcObject = stream;\n",
        "      await video.play();\n",
        "\n",
        "      // Resize the output to fit the video element.\n",
        "      google.colab.output.setIframeHeight(document.documentElement.scrollHeight, true);\n",
        "\n",
        "      // Wait for Capture to be clicked.\n",
        "      await new Promise((resolve) => capture.onclick = resolve);\n",
        "\n",
        "      const canvas = document.createElement('canvas');\n",
        "      canvas.width = video.videoWidth;\n",
        "      canvas.height = video.videoHeight;\n",
        "      canvas.getContext('2d').drawImage(video, 0, 0);\n",
        "      stream.getVideoTracks()[0].stop();\n",
        "      div.remove();\n",
        "      return canvas.toDataURL('image/jpeg', quality);\n",
        "    }\n",
        "    ''')\n",
        "  display(js)\n",
        "  data = eval_js('takePhoto({})'.format(quality))\n",
        "  binary = b64decode(data.split(',')[1])\n",
        "  with open(filename, 'wb') as f:\n",
        "    f.write(binary)\n",
        "  return filename"
      ],
      "execution_count": 0,
      "outputs": []
    },
    {
      "cell_type": "code",
      "metadata": {
        "colab_type": "code",
        "id": "buJCl90WhNfq",
        "outputId": "56c16b1b-b615-491a-89e9-02a6ad506b7c",
        "colab": {
          "base_uri": "https://localhost:8080/",
          "height": 514
        }
      },
      "source": [
        "# Source: https://colab.research.google.com/notebooks/snippets/advanced_outputs.ipynb#scrollTo=buJCl90WhNfq\n",
        "\n",
        "from IPython.display import Image\n",
        "try:\n",
        "  filename = take_photo()\n",
        "  print('Saved to {}'.format(filename))\n",
        "  \n",
        "  # Show the image which was just taken.\n",
        "  display(Image(filename))\n",
        "except Exception as err:\n",
        "  # Errors will be thrown if the user does not have a webcam or if they do not\n",
        "  # grant the page permission to access it.\n",
        "  print(str(err))"
      ],
      "execution_count": 4,
      "outputs": [
        {
          "output_type": "display_data",
          "data": {
            "application/javascript": [
              "\n",
              "    async function takePhoto(quality) {\n",
              "      const div = document.createElement('div');\n",
              "      const capture = document.createElement('button');\n",
              "      capture.textContent = 'Capture';\n",
              "      div.appendChild(capture);\n",
              "\n",
              "      const video = document.createElement('video');\n",
              "      video.style.display = 'block';\n",
              "      const stream = await navigator.mediaDevices.getUserMedia({video: true});\n",
              "\n",
              "      document.body.appendChild(div);\n",
              "      div.appendChild(video);\n",
              "      video.srcObject = stream;\n",
              "      await video.play();\n",
              "\n",
              "      // Resize the output to fit the video element.\n",
              "      google.colab.output.setIframeHeight(document.documentElement.scrollHeight, true);\n",
              "\n",
              "      // Wait for Capture to be clicked.\n",
              "      await new Promise((resolve) => capture.onclick = resolve);\n",
              "\n",
              "      const canvas = document.createElement('canvas');\n",
              "      canvas.width = video.videoWidth;\n",
              "      canvas.height = video.videoHeight;\n",
              "      canvas.getContext('2d').drawImage(video, 0, 0);\n",
              "      stream.getVideoTracks()[0].stop();\n",
              "      div.remove();\n",
              "      return canvas.toDataURL('image/jpeg', quality);\n",
              "    }\n",
              "    "
            ],
            "text/plain": [
              "<IPython.core.display.Javascript object>"
            ]
          },
          "metadata": {
            "tags": []
          }
        },
        {
          "output_type": "stream",
          "text": [
            "Saved to user_photo.jpg\n"
          ],
          "name": "stdout"
        },
        {
          "output_type": "display_data",
          "data": {
            "image/jpeg": "[encoded data removed]",
            "text/plain": [
              "<IPython.core.display.Image object>"
            ]
          },
          "metadata": {
            "tags": []
          }
        }
      ]
    },
    {
      "cell_type": "markdown",
      "metadata": {
        "id": "-kQ5h0uZzQvV",
        "colab_type": "text"
      },
      "source": [
        "## IN PROGRESS: Have user take pic in a certain area"
      ]
    }
  ]
}